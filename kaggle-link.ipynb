{
 "cells": [
  {
   "cell_type": "code",
   "execution_count": 1,
   "id": "e1049727",
   "metadata": {
    "_cell_guid": "b1076dfc-b9ad-4769-8c92-a6c4dae69d19",
    "_uuid": "8f2839f25d086af736a60e9eeb907d3b93b6e0e5",
    "execution": {
     "iopub.execute_input": "2024-11-20T07:01:32.741196Z",
     "iopub.status.busy": "2024-11-20T07:01:32.740650Z",
     "iopub.status.idle": "2024-11-20T07:01:33.735668Z",
     "shell.execute_reply": "2024-11-20T07:01:33.734693Z"
    },
    "papermill": {
     "duration": 1.001704,
     "end_time": "2024-11-20T07:01:33.738465",
     "exception": false,
     "start_time": "2024-11-20T07:01:32.736761",
     "status": "completed"
    },
    "tags": []
   },
   "outputs": [],
   "source": [
    "# This Python 3 environment comes with many helpful analytics libraries installed\n",
    "# It is defined by the kaggle/python Docker image: https://github.com/kaggle/docker-python\n",
    "# For example, here's several helpful packages to load\n",
    "\n",
    "import numpy as np # linear algebra\n",
    "import pandas as pd # data processing, CSV file I/O (e.g. pd.read_csv)\n",
    "\n",
    "# Input data files are available in the read-only \"../input/\" directory\n",
    "# For example, running this (by clicking run or pressing Shift+Enter) will list all files under the input directory\n",
    "\n",
    "import os\n",
    "for dirname, _, filenames in os.walk('/kaggle/input'):\n",
    "    for filename in filenames:\n",
    "        print(os.path.join(dirname, filename))\n",
    "\n",
    "# You can write up to 20GB to the current directory (/kaggle/working/) that gets preserved as output when you create a version using \"Save & Run All\" \n",
    "# You can also write temporary files to /kaggle/temp/, but they won't be saved outside of the current session"
   ]
  },
  {
   "cell_type": "markdown",
   "id": "02cb8b0e",
   "metadata": {
    "papermill": {
     "duration": 0.001666,
     "end_time": "2024-11-20T07:01:33.742355",
     "exception": false,
     "start_time": "2024-11-20T07:01:33.740689",
     "status": "completed"
    },
    "tags": []
   },
   "source": [
    "print\n"
   ]
  },
  {
   "cell_type": "code",
   "execution_count": 2,
   "id": "f55615fe",
   "metadata": {
    "execution": {
     "iopub.execute_input": "2024-11-20T07:01:33.747240Z",
     "iopub.status.busy": "2024-11-20T07:01:33.746704Z",
     "iopub.status.idle": "2024-11-20T07:01:33.752719Z",
     "shell.execute_reply": "2024-11-20T07:01:33.751518Z"
    },
    "papermill": {
     "duration": 0.011342,
     "end_time": "2024-11-20T07:01:33.755282",
     "exception": false,
     "start_time": "2024-11-20T07:01:33.743940",
     "status": "completed"
    },
    "tags": []
   },
   "outputs": [
    {
     "name": "stdout",
     "output_type": "stream",
     "text": [
      "hello\n"
     ]
    }
   ],
   "source": [
    "print(\"hello\")"
   ]
  }
 ],
 "metadata": {
  "kaggle": {
   "accelerator": "none",
   "dataSources": [],
   "dockerImageVersionId": 30786,
   "isGpuEnabled": false,
   "isInternetEnabled": true,
   "language": "python",
   "sourceType": "notebook"
  },
  "kernelspec": {
   "display_name": "Python 3",
   "language": "python",
   "name": "python3"
  },
  "language_info": {
   "codemirror_mode": {
    "name": "ipython",
    "version": 3
   },
   "file_extension": ".py",
   "mimetype": "text/x-python",
   "name": "python",
   "nbconvert_exporter": "python",
   "pygments_lexer": "ipython3",
   "version": "3.10.14"
  },
  "papermill": {
   "default_parameters": {},
   "duration": 4.411288,
   "end_time": "2024-11-20T07:01:34.277512",
   "environment_variables": {},
   "exception": null,
   "input_path": "__notebook__.ipynb",
   "output_path": "__notebook__.ipynb",
   "parameters": {},
   "start_time": "2024-11-20T07:01:29.866224",
   "version": "2.6.0"
  }
 },
 "nbformat": 4,
 "nbformat_minor": 5
}
